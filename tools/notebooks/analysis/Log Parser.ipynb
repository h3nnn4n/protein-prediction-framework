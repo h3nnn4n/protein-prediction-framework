{
 "cells": [
  {
   "cell_type": "markdown",
   "metadata": {},
   "source": [
    "# Log Parser and Summarizer"
   ]
  },
  {
   "cell_type": "code",
   "execution_count": 13,
   "metadata": {},
   "outputs": [],
   "source": [
    "import datetime\n",
    "import string\n",
    "import random\n",
    "import pickle\n",
    "import time\n",
    "import sys\n",
    "import os\n",
    "import re\n",
    "\n",
    "import numpy as np"
   ]
  },
  {
   "cell_type": "code",
   "execution_count": 19,
   "metadata": {},
   "outputs": [],
   "source": [
    "root_path = '/home/h3nnn4n/progs/de_supimpa/tools/notebooks/analysis'\n",
    "base_path = '/home/h3nnn4n/progs/de_supimpa/src'\n",
    "# target = 'de_experiment_final'\n",
    "# target = 'de_sade_remc'\n",
    "# target = 'de_rosetta'\n",
    "target = 'de_rosetta_short'\n",
    "# target = 'de_ffi'\n",
    "\n",
    "\n",
    "def reset_path():\n",
    "    os.chdir(base_path)\n",
    "    \n",
    "def reset_to_root_path():\n",
    "    os.chdir(root_path)\n",
    "\n",
    "reset_to_root_path()\n",
    "    \n",
    "import utils\n",
    "\n",
    "reset_path()"
   ]
  },
  {
   "cell_type": "code",
   "execution_count": 20,
   "metadata": {},
   "outputs": [
    {
     "name": "stdout",
     "output_type": "stream",
     "text": [
      "INFO: tarballing to de_rosetta_short__bkp.tar.gz\n",
      "INFO: tarballing took 4.601389s\n",
      "INFO: tarball bkp took 0.005255s\n",
      "INFO: created results folder de_rosetta_short__2019_06_24\n",
      "INFO: created protein folder for de_rosetta_short__2019_06_24/1ail\n",
      "INFO: created protein folder for de_rosetta_short__2019_06_24/1crn\n",
      "INFO: created protein folder for de_rosetta_short__2019_06_24/1enh\n",
      "INFO: created protein folder for de_rosetta_short__2019_06_24/1zdd\n",
      "INFO: Found 1 experiments\n",
      "INFO: found 1117 files\n",
      "INFO: Moved    1000 of    1117\n",
      "INFO: Moved    1000 of    1117 files\n",
      "INFO: Organizing 1ail\n",
      "INFO: Organizing 1crn\n",
      "INFO: Organizing 1enh\n",
      "INFO: Organizing 1zdd\n",
      "INFO: Parsing      50 repack.dat files\n",
      "INFO: Parsing      50 repack.dat files\n",
      "INFO: Parsing      50 repack.dat files\n",
      "INFO: Parsing      50 repack.dat files\n",
      "INFO: Parsing      50 repack.dat files\n",
      "INFO: Parsing      50 repack.dat files\n",
      "INFO: Parsing      50 repack.dat files\n",
      "INFO: Parsing      50 repack.dat files\n",
      "INFO: Parsing      50 repack.dat files\n",
      "INFO: Parsing      50 repack.dat files\n",
      "INFO: Parsing      50 repack.dat files\n",
      "INFO: Parsing      50 repack.dat files\n"
     ]
    }
   ],
   "source": [
    "utils.tar_dir(target)\n",
    "\n",
    "os.chdir(target)\n",
    "\n",
    "experiment_path = utils.move_to_results(target) # , folder_name='de_experiment_final__2019_06_20')\n",
    "\n",
    "os.chdir(experiment_path)\n",
    "\n",
    "protein_list = utils.get_protein_list()\n",
    "\n",
    "for protein in protein_list:\n",
    "    utils.organize_protein_folder(protein)\n",
    "    \n",
    "utils.data_dump();"
   ]
  },
  {
   "cell_type": "code",
   "execution_count": 21,
   "metadata": {},
   "outputs": [],
   "source": [
    "p_data = pickle.load(open( \"data_dump.pickle\", \"rb\"))"
   ]
  },
  {
   "cell_type": "code",
   "execution_count": 22,
   "metadata": {},
   "outputs": [],
   "source": [
    "experiment_summary = data_utils.experiment_summary(p_data, mode='best_by_energy', metric='score')"
   ]
  },
  {
   "cell_type": "code",
   "execution_count": 23,
   "metadata": {},
   "outputs": [
    {
     "data": {
      "text/plain": [
       "{'classic-abinitio': {'data': {'max': 56.5228,\n",
       "   'mean': 43.950416000000004,\n",
       "   'median': 43.529049999999998,\n",
       "   'min': 30.0075,\n",
       "   'std': 7.4706949575888864},\n",
       "  'keys': ['min', 'max', 'mean', 'std', 'median']}}"
      ]
     },
     "execution_count": 23,
     "metadata": {},
     "output_type": "execute_result"
    }
   ],
   "source": [
    "experiment_summary['1ail']"
   ]
  },
  {
   "cell_type": "code",
   "execution_count": null,
   "metadata": {},
   "outputs": [],
   "source": []
  }
 ],
 "metadata": {
  "kernelspec": {
   "display_name": "Python 3",
   "language": "python",
   "name": "python3"
  },
  "language_info": {
   "codemirror_mode": {
    "name": "ipython",
    "version": 3
   },
   "file_extension": ".py",
   "mimetype": "text/x-python",
   "name": "python",
   "nbconvert_exporter": "python",
   "pygments_lexer": "ipython3",
   "version": "3.5.4"
  }
 },
 "nbformat": 4,
 "nbformat_minor": 2
}
