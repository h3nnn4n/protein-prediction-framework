{
 "cells": [
  {
   "cell_type": "markdown",
   "metadata": {},
   "source": [
    "# Log Parser and Summarizer"
   ]
  },
  {
   "cell_type": "code",
   "execution_count": 1,
   "metadata": {},
   "outputs": [],
   "source": [
    "import datetime\n",
    "import string\n",
    "import random\n",
    "import pickle\n",
    "import time\n",
    "import sys\n",
    "import os\n",
    "import re\n",
    "\n",
    "import numpy as np"
   ]
  },
  {
   "cell_type": "code",
   "execution_count": 5,
   "metadata": {},
   "outputs": [],
   "source": [
    "root_path = '/home/h3nnn4n/progs/de_supimpa/tools/notebooks/analysis'\n",
    "base_path = '/home/h3nnn4n/progs/de_supimpa/src'\n",
    "# target = 'de_experiment_final'\n",
    "# target = 'de_sade_remc'\n",
    "# target = 'de_rosetta'\n",
    "# target = 'de_rosetta_short'\n",
    "# target = 'de_ffi'\n",
    "# target = 'de_experiment_final_8_prot'\n",
    "# target = 'de_final_1rop_1wqc_1lwy'\n",
    "# target = 'de_rosetta_all_prots'\n",
    "# target = 'de_other_experiments_all_prots'\n",
    "# target = 'de_missing_4_base_prots_runs'\n",
    "target = 'de_mc_de-mc_de-remc_4prot'\n",
    "\n",
    "\n",
    "def reset_path():\n",
    "    os.chdir(base_path)\n",
    "    \n",
    "def reset_to_root_path():\n",
    "    os.chdir(root_path)\n",
    "\n",
    "reset_to_root_path()\n",
    "    \n",
    "import utils\n",
    "\n",
    "reset_path()"
   ]
  },
  {
   "cell_type": "code",
   "execution_count": 6,
   "metadata": {},
   "outputs": [
    {
     "name": "stdout",
     "output_type": "stream",
     "text": [
      "INFO: tarballing to de_mc_de-mc_de-remc_4prot__bkp.tar.gz\n",
      "INFO: tarballing took 173.465306s\n",
      "INFO: tarball bkp took 0.056401s\n",
      "INFO: created results folder de_mc_de-mc_de-remc_4prot__2019_07_26\n",
      "INFO: created protein folder for de_mc_de-mc_de-remc_4prot__2019_07_26/1ail\n",
      "INFO: created protein folder for de_mc_de-mc_de-remc_4prot__2019_07_26/1crn\n",
      "INFO: created protein folder for de_mc_de-mc_de-remc_4prot__2019_07_26/1enh\n",
      "INFO: created protein folder for de_mc_de-mc_de-remc_4prot__2019_07_26/1zdd\n",
      "INFO: Found 3 experiments\n",
      "INFO: found 4861 files\n",
      "INFO: Moved    1000 of    4861\n",
      "INFO: Moved    2000 of    4861\n",
      "INFO: Moved    3000 of    4861\n",
      "INFO: Moved    4000 of    4861\n",
      "INFO: Moved    4792 of    4861 files\n",
      "INFO: Organizing 1ail\n",
      "INFO: Organizing 1crn\n",
      "INFO: Organizing 1enh\n",
      "INFO: Organizing 1zdd\n",
      "INFO: Parsing      50 repack.dat files\n",
      "INFO: Parsing      50 repack.dat files\n",
      "INFO: Parsing      50 repack.dat files\n",
      "INFO: Parsing      50 repack.dat files\n",
      "INFO: Parsing      50 repack.dat files\n",
      "INFO: Parsing      50 repack.dat files\n",
      "INFO: Parsing      50 repack.dat files\n",
      "INFO: Parsing      50 repack.dat files\n",
      "INFO: Parsing      50 repack.dat files\n",
      "INFO: Parsing      50 repack.dat files\n",
      "INFO: Parsing      50 repack.dat files\n",
      "INFO: Parsing      50 repack.dat files\n",
      "INFO: Parsing      49 repack.dat files\n",
      "INFO: Parsing      49 repack.dat files\n",
      "INFO: Parsing      49 repack.dat files\n",
      "INFO: Parsing      49 repack.dat files\n",
      "INFO: Parsing      49 repack.dat files\n",
      "INFO: Parsing      49 repack.dat files\n",
      "INFO: Parsing      50 repack.dat files\n",
      "INFO: Parsing      50 repack.dat files\n",
      "INFO: Parsing      50 repack.dat files\n",
      "INFO: Parsing      50 repack.dat files\n",
      "INFO: Parsing      50 repack.dat files\n",
      "INFO: Parsing      50 repack.dat files\n",
      "INFO: Parsing      50 repack.dat files\n",
      "INFO: Parsing      50 repack.dat files\n",
      "INFO: Parsing      50 repack.dat files\n",
      "INFO: Parsing      50 repack.dat files\n",
      "INFO: Parsing      50 repack.dat files\n",
      "INFO: Parsing      50 repack.dat files\n",
      "INFO: Parsing      50 repack.dat files\n",
      "INFO: Parsing      50 repack.dat files\n",
      "INFO: Parsing      50 repack.dat files\n",
      "INFO: Parsing      49 repack.dat files\n",
      "INFO: Parsing      49 repack.dat files\n",
      "INFO: Parsing      49 repack.dat files\n"
     ]
    }
   ],
   "source": [
    "utils.tar_dir(target)\n",
    "\n",
    "os.chdir(target)\n",
    "\n",
    "experiment_path = utils.move_to_results(target) # , folder_name='de_other_experiments_all_prots__2019_07_19')\n",
    "\n",
    "os.chdir(experiment_path)\n",
    "\n",
    "protein_list = utils.get_protein_list()\n",
    "\n",
    "for protein in protein_list:\n",
    "    utils.organize_protein_folder(protein)\n",
    "    \n",
    "utils.data_dump();"
   ]
  },
  {
   "cell_type": "code",
   "execution_count": 7,
   "metadata": {},
   "outputs": [],
   "source": [
    "p_data = pickle.load(open( \"data_dump.pickle\", \"rb\"))"
   ]
  },
  {
   "cell_type": "code",
   "execution_count": null,
   "metadata": {},
   "outputs": [],
   "source": []
  }
 ],
 "metadata": {
  "kernelspec": {
   "display_name": "Python 3",
   "language": "python",
   "name": "python3"
  },
  "language_info": {
   "codemirror_mode": {
    "name": "ipython",
    "version": 3
   },
   "file_extension": ".py",
   "mimetype": "text/x-python",
   "name": "python",
   "nbconvert_exporter": "python",
   "pygments_lexer": "ipython3",
   "version": "3.5.7"
  }
 },
 "nbformat": 4,
 "nbformat_minor": 2
}
