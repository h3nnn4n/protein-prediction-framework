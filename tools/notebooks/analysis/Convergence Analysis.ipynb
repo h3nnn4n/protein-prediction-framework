{
 "cells": [
  {
   "cell_type": "code",
   "execution_count": 1,
   "metadata": {},
   "outputs": [],
   "source": [
    "import datetime\n",
    "import string\n",
    "import random\n",
    "import time\n",
    "import sys\n",
    "import os\n",
    "import re"
   ]
  },
  {
   "cell_type": "code",
   "execution_count": 4,
   "metadata": {},
   "outputs": [],
   "source": [
    "root_path = '/home/h3nnn4n/progs/de_supimpa/tools/notebooks/analysis'\n",
    "base_path = '/home/h3nnn4n/progs/de_supimpa/src'\n",
    "target = 'de_experiment_final'\n",
    "\n",
    "def reset_path():\n",
    "    os.chdir(base_path)\n",
    "    \n",
    "def reset_to_root_path():\n",
    "    os.chdir(root_path)\n",
    "\n",
    "reset_to_root_path()\n",
    "    \n",
    "import utils\n",
    "\n",
    "reset_path()"
   ]
  },
  {
   "cell_type": "code",
   "execution_count": 5,
   "metadata": {},
   "outputs": [
    {
     "name": "stdout",
     "output_type": "stream",
     "text": [
      "WARN: de_experiment_final__bkp.tar.gz already exists. Skipping\n",
      "INFO: created results folder de_experiment_final__2019_06_20\n",
      "INFO: created protein folder for de_experiment_final__2019_06_20/1ail\n",
      "INFO: created protein folder for de_experiment_final__2019_06_20/1crn\n",
      "INFO: created protein folder for de_experiment_final__2019_06_20/1enh\n",
      "INFO: created protein folder for de_experiment_final__2019_06_20/1zdd\n",
      "INFO: found 17766 files\n",
      "INFO: Moved    1000 of   17766\n",
      "INFO: Moved    2000 of   17766\n",
      "INFO: Moved    3000 of   17766\n",
      "INFO: Moved    4000 of   17766\n",
      "INFO: Moved    5000 of   17766\n",
      "INFO: Moved    6000 of   17766\n",
      "INFO: Moved    7000 of   17766\n",
      "INFO: Moved    8000 of   17766\n",
      "INFO: Moved    9000 of   17766\n",
      "INFO: Moved   10000 of   17766\n",
      "INFO: Moved   11000 of   17766\n",
      "INFO: Moved   12000 of   17766\n",
      "INFO: Moved   13000 of   17766\n",
      "INFO: Moved   14000 of   17766\n",
      "INFO: Moved   15000 of   17766\n",
      "INFO: Moved   16000 of   17766\n",
      "INFO: Moved   17000 of   17766\n",
      "INFO: Moved   17649 of   17766 files\n",
      "INFO: Organizing 1ail\n",
      "INFO: Organizing 1crn\n",
      "INFO: Organizing 1enh\n",
      "INFO: Organizing 1zdd\n"
     ]
    }
   ],
   "source": [
    "utils.tar_dir(target)\n",
    "\n",
    "os.chdir(target)\n",
    "\n",
    "protein_list = utils.get_protein_list()\n",
    "experiment_path = utils.move_to_results(target)\n",
    "\n",
    "os.chdir(experiment_path)\n",
    "\n",
    "for protein in protein_list:\n",
    "    utils.organize_protein_folder(protein)\n",
    "    "
   ]
  },
  {
   "cell_type": "code",
   "execution_count": null,
   "metadata": {},
   "outputs": [],
   "source": []
  }
 ],
 "metadata": {
  "kernelspec": {
   "display_name": "Python 3",
   "language": "python",
   "name": "python3"
  },
  "language_info": {
   "codemirror_mode": {
    "name": "ipython",
    "version": 3
   },
   "file_extension": ".py",
   "mimetype": "text/x-python",
   "name": "python",
   "nbconvert_exporter": "python",
   "pygments_lexer": "ipython3",
   "version": "3.5.4"
  }
 },
 "nbformat": 4,
 "nbformat_minor": 2
}
