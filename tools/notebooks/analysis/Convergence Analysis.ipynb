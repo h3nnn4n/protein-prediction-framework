{
 "cells": [
  {
   "cell_type": "code",
   "execution_count": 1,
   "metadata": {},
   "outputs": [],
   "source": [
    "import datetime\n",
    "import string\n",
    "import random\n",
    "import time\n",
    "import sys\n",
    "import os\n",
    "import re"
   ]
  },
  {
   "cell_type": "code",
   "execution_count": 6,
   "metadata": {},
   "outputs": [],
   "source": [
    "root_path = '/home/h3nnn4n/progs/de_supimpa/tools/notebooks/analysis'\n",
    "base_path = '/home/h3nnn4n/progs/de_supimpa/src'\n",
    "target = 'de_experiment_final'\n",
    "\n",
    "def reset_path():\n",
    "    os.chdir(base_path)\n",
    "    \n",
    "def reset_to_root_path():\n",
    "    os.chdir(root_path)\n",
    "\n",
    "reset_to_root_path()\n",
    "    \n",
    "import utils\n",
    "\n",
    "reset_path()"
   ]
  },
  {
   "cell_type": "code",
   "execution_count": 7,
   "metadata": {},
   "outputs": [
    {
     "name": "stdout",
     "output_type": "stream",
     "text": [
      "WARN: de_experiment_final__bkp.tar.gz already exists. Skipping\n",
      "INFO: Found 0 experiments\n",
      "INFO: found 117 files\n",
      "INFO: Moved       0 of     117 files\n",
      "INFO: Organizing 1ail\n",
      "INFO: Organizing 1crn\n",
      "INFO: Organizing 1enh\n",
      "INFO: Organizing 1zdd\n",
      "INFO: Parsing     500 repack.dat files\n",
      "INFO: Parsing     500 repack.dat files\n",
      "INFO: Parsing     500 repack.dat files\n",
      "INFO: Parsing     447 repack.dat files\n",
      "INFO: Parsing     447 repack.dat files\n",
      "INFO: Parsing     447 repack.dat files\n",
      "INFO: Parsing     500 repack.dat files\n",
      "INFO: Parsing     500 repack.dat files\n",
      "INFO: Parsing     500 repack.dat files\n",
      "INFO: Parsing     430 repack.dat files\n",
      "INFO: Parsing     430 repack.dat files\n",
      "INFO: Parsing     430 repack.dat files\n",
      "INFO: Parsing     500 repack.dat files\n",
      "INFO: Parsing     500 repack.dat files\n",
      "INFO: Parsing     500 repack.dat files\n",
      "INFO: Parsing     437 repack.dat files\n",
      "INFO: Parsing     437 repack.dat files\n",
      "INFO: Parsing     437 repack.dat files\n",
      "INFO: Parsing     500 repack.dat files\n",
      "INFO: Parsing     500 repack.dat files\n",
      "INFO: Parsing     500 repack.dat files\n",
      "INFO: Parsing     496 repack.dat files\n",
      "INFO: Parsing     496 repack.dat files\n",
      "INFO: Parsing     496 repack.dat files\n"
     ]
    }
   ],
   "source": [
    "utils.tar_dir(target)\n",
    "\n",
    "os.chdir(target)\n",
    "\n",
    "experiment_path = utils.move_to_results(target)\n",
    "\n",
    "os.chdir(experiment_path)\n",
    "\n",
    "protein_list = utils.get_protein_list()\n",
    "\n",
    "for protein in protein_list:\n",
    "    utils.organize_protein_folder(protein)\n",
    "    \n",
    "utils.data_dump();"
   ]
  },
  {
   "cell_type": "code",
   "execution_count": null,
   "metadata": {},
   "outputs": [],
   "source": []
  }
 ],
 "metadata": {
  "kernelspec": {
   "display_name": "Python 3",
   "language": "python",
   "name": "python3"
  },
  "language_info": {
   "codemirror_mode": {
    "name": "ipython",
    "version": 3
   },
   "file_extension": ".py",
   "mimetype": "text/x-python",
   "name": "python",
   "nbconvert_exporter": "python",
   "pygments_lexer": "ipython3",
   "version": "3.5.4"
  }
 },
 "nbformat": 4,
 "nbformat_minor": 2
}
