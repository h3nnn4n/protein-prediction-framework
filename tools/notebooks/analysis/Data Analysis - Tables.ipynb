{
 "cells": [
  {
   "cell_type": "markdown",
   "metadata": {},
   "source": [
    "# Data analysis"
   ]
  },
  {
   "cell_type": "markdown",
   "metadata": {},
   "source": [
    "Experiment information:\n",
    "- One million function evaluations\n",
    "- **sade_remc**: is the best method from HM, but with more evals\n",
    "- **sade_mc_final**: is sade + MC + ffi9 + rmsd crowding + spicker + hooke jeeves on cluster centroids\n",
    "- **sade_remc_final**: is the same as above, but REMC instead of MC\n",
    "- **sade_mc_ffi9_02**: is HM method + forced fragment insertion of size 2 with 0.02 chance of happening per individal per generation\n",
    "- **sade_remc_ffi9_02**: same as above but with REMC instead of MC"
   ]
  },
  {
   "cell_type": "code",
   "execution_count": 1,
   "metadata": {},
   "outputs": [],
   "source": [
    "import datetime\n",
    "import string\n",
    "import random\n",
    "import pickle\n",
    "import time\n",
    "import sys\n",
    "import os\n",
    "import re\n",
    "\n",
    "import data_utils\n",
    "\n",
    "import numpy as np\n",
    "import pandas as pd\n",
    "import seaborn as sns\n",
    "import matplotlib.pyplot as plt\n",
    "\n",
    "%matplotlib inline\n",
    "sns.set(style=\"whitegrid\");"
   ]
  },
  {
   "cell_type": "code",
   "execution_count": 2,
   "metadata": {},
   "outputs": [],
   "source": [
    "root_path = '/home/h3nnn4n/progs/de_supimpa/tools/notebooks/analysis'\n",
    "base_path = '/home/h3nnn4n/progs/de_supimpa/src'\n",
    "\n",
    "\n",
    "def reset_path():\n",
    "    os.chdir(base_path)\n",
    "    \n",
    "def reset_to_root_path():\n",
    "    os.chdir(root_path)\n",
    "\n",
    "    \n",
    "reset_to_root_path()\n",
    "reset_path()"
   ]
  },
  {
   "cell_type": "code",
   "execution_count": 3,
   "metadata": {},
   "outputs": [],
   "source": [
    "runs = [\n",
    "    'de_experiment_final',\n",
    "    'de_sade_remc',\n",
    "    'de_rosetta',\n",
    "    'de_ffi',\n",
    "    'de_experiment_final_8_prot',\n",
    "    'de_final_1rop_1wqc_1lwy',\n",
    "    'de_rosetta_all_prots',\n",
    "    'de_other_experiments_all_prots',\n",
    "    'de_missing_4_base_prots_runs',\n",
    "    'de_mc_de-mc_de-remc_4prot',\n",
    "]"
   ]
  },
  {
   "cell_type": "code",
   "execution_count": 4,
   "metadata": {},
   "outputs": [
    {
     "name": "stdout",
     "output_type": "stream",
     "text": [
      "INFO: Loaded 10 experiment runs dataset\n",
      "removed 5 proteins. Blacklist had 5\n",
      "Finished\n"
     ]
    }
   ],
   "source": [
    "protein_blacklist = ['1ab1', '1dfn', '2P5K', '2pmr', '3V1A']\n",
    "\n",
    "dataset = data_utils.load_all_data(runs)\n",
    "alldata = data_utils.merge_data(dataset, protein_blacklist=protein_blacklist)\n",
    "\n",
    "\n",
    "def filter_methods(data, allowed=[]):\n",
    "    proteins = sorted(list(data.keys()))\n",
    "    \n",
    "    for protein in proteins:\n",
    "        methods = sorted(list(data[protein].keys()))\n",
    "        \n",
    "        for method in methods:\n",
    "            if method not in allowed:\n",
    "                data[protein].pop(method)\n",
    "#                 print('[INFO] Deleting %s' % method)\n",
    "        \n",
    "    return data\n",
    "\n",
    "\n",
    "def rename_methods(data, renamer={}):\n",
    "    proteins = sorted(list(data.keys()))\n",
    "\n",
    "    for protein in proteins:\n",
    "        methods = sorted(list(data[protein].keys()))\n",
    "        \n",
    "        for method in methods:\n",
    "            if method in renamer.keys():\n",
    "                tmp = data[protein].pop(method)\n",
    "                data[protein][renamer[method]] = tmp\n",
    "\n",
    "\n",
    "filter_methods(alldata, allowed=['classic-abinitio', 'sade_remc_final', 'sade_mc_final', 'sade_remc'])\n",
    "rename_methods(alldata, renamer={'sade_remc_final': 'rppf-remc', 'sade_mc_final': 'rppf-mc', 'sade_remc': 'sade-remc'})\n",
    "print('Finished')\n",
    "\n",
    "# filter_methods(alldata, allowed=['sade_remc_final', 'sade_mc_final'])\n",
    "# rename_methods(alldata, renamer={'sade_remc_final': 'ppf-remc', 'sade_mc_final': 'ppf-mc', 'sade_remc': 'sade-remc'})\n",
    "# print('Finished')"
   ]
  },
  {
   "cell_type": "code",
   "execution_count": 5,
   "metadata": {},
   "outputs": [],
   "source": [
    "def pretty_print_experiment_summary(experiment_summary):\n",
    "    def protein_summary_print(p_data):\n",
    "        keys = sorted(p_data.keys())\n",
    "        \n",
    "        for key in keys:\n",
    "            experiment = p_data[key]\n",
    "            name = key\n",
    "            data = experiment['data']\n",
    "\n",
    "            print('%25s    min: %8.2f  mean: %8.2f  std: %8.2f' % (\n",
    "                name, data['min'], data['mean'], data['std']\n",
    "            ))\n",
    "    \n",
    "    for protein in sorted(experiment_summary.keys()): \n",
    "        print()\n",
    "        print(protein.upper())\n",
    "\n",
    "        protein_summary_print(experiment_summary[protein])"
   ]
  },
  {
   "cell_type": "markdown",
   "metadata": {},
   "source": [
    "## Experiment Summary with *Best by Energy*"
   ]
  },
  {
   "cell_type": "markdown",
   "metadata": {},
   "source": [
    "### RMSD data"
   ]
  },
  {
   "cell_type": "code",
   "execution_count": 6,
   "metadata": {
    "scrolled": true
   },
   "outputs": [
    {
     "name": "stdout",
     "output_type": "stream",
     "text": [
      "\n",
      "1ACW\n",
      "         classic-abinitio    min:     5.85  mean:     7.48  std:     0.57\n",
      "                  rppf-mc    min:     5.27  mean:     7.30  std:     0.91\n",
      "                rppf-remc    min:     5.53  mean:     7.36  std:     1.01\n",
      "                sade-remc    min:     5.41  mean:     6.89  std:     0.64\n",
      "\n",
      "1AIL\n",
      "         classic-abinitio    min:     4.75  mean:     7.95  std:     1.56\n",
      "                  rppf-mc    min:     5.69  mean:    10.04  std:     2.02\n",
      "                rppf-remc    min:     5.31  mean:     9.78  std:     3.22\n",
      "                sade-remc    min:     4.26  mean:     8.57  std:     1.42\n",
      "\n",
      "1CRN\n",
      "         classic-abinitio    min:     4.30  mean:     6.57  std:     1.57\n",
      "                  rppf-mc    min:     5.54  mean:     8.62  std:     1.31\n",
      "                rppf-remc    min:     4.14  mean:     8.34  std:     1.67\n",
      "                sade-remc    min:     4.27  mean:     8.74  std:     1.55\n",
      "\n",
      "1ENH\n",
      "         classic-abinitio    min:     2.84  mean:     6.43  std:     1.28\n",
      "                  rppf-mc    min:     2.65  mean:     7.69  std:     2.37\n",
      "                rppf-remc    min:     3.26  mean:     7.06  std:     2.36\n",
      "                sade-remc    min:     3.32  mean:     5.94  std:     1.28\n",
      "\n",
      "1L2Y\n",
      "         classic-abinitio    min:     4.83  mean:     6.32  std:     0.54\n",
      "                  rppf-mc    min:     3.59  mean:     5.86  std:     0.97\n",
      "                rppf-remc    min:     4.07  mean:     5.94  std:     0.81\n",
      "                sade-remc    min:     4.88  mean:     6.32  std:     0.59\n",
      "\n",
      "1ROP\n",
      "         classic-abinitio    min:     3.46  mean:     4.75  std:     0.60\n",
      "                  rppf-mc    min:     2.30  mean:     4.76  std:     1.78\n",
      "                rppf-remc    min:     3.28  mean:     7.11  std:     3.15\n",
      "                sade-remc    min:     3.06  mean:     4.99  std:     0.67\n",
      "\n",
      "1UTG\n",
      "         classic-abinitio    min:     8.03  mean:    10.39  std:     1.17\n",
      "                  rppf-mc    min:     5.79  mean:     9.80  std:     1.88\n",
      "                rppf-remc    min:     5.28  mean:     9.61  std:     1.79\n",
      "                sade-remc    min:     4.76  mean:    10.03  std:     1.61\n",
      "\n",
      "1WQC\n",
      "         classic-abinitio    min:     2.50  mean:     4.58  std:     1.73\n",
      "                  rppf-mc    min:     2.15  mean:     5.20  std:     1.17\n",
      "                rppf-remc    min:     2.52  mean:     5.53  std:     1.42\n",
      "                sade-remc    min:     4.18  mean:     6.25  std:     1.23\n",
      "\n",
      "1ZDD\n",
      "         classic-abinitio    min:     0.91  mean:     2.36  std:     1.14\n",
      "                  rppf-mc    min:     1.07  mean:     3.08  std:     1.57\n",
      "                rppf-remc    min:     1.17  mean:     2.69  std:     1.24\n",
      "                sade-remc    min:     1.29  mean:     2.28  std:     0.85\n",
      "\n",
      "2MR9\n",
      "         classic-abinitio    min:     2.48  mean:     5.61  std:     1.79\n",
      "                  rppf-mc    min:     1.66  mean:     4.68  std:     1.92\n",
      "                rppf-remc    min:     1.55  mean:     4.63  std:     1.82\n",
      "                sade-remc    min:     1.86  mean:     3.95  std:     0.86\n"
     ]
    }
   ],
   "source": [
    "experiment_summary_rmsd = data_utils.experiment_summary(alldata, mode='best_by_energy', metric='rmsd_after')\n",
    "pretty_print_experiment_summary(experiment_summary_rmsd)"
   ]
  },
  {
   "cell_type": "markdown",
   "metadata": {},
   "source": [
    "## Energy data "
   ]
  },
  {
   "cell_type": "code",
   "execution_count": 7,
   "metadata": {},
   "outputs": [
    {
     "name": "stdout",
     "output_type": "stream",
     "text": [
      "\n",
      "1ACW\n",
      "         classic-abinitio    min:   -52.05  mean:   -39.61  std:     5.32\n",
      "                  rppf-mc    min:   -56.71  mean:   -39.81  std:     5.51\n",
      "                rppf-remc    min:   -52.66  mean:   -36.85  std:     7.27\n",
      "                sade-remc    min:   -52.16  mean:   -39.48  std:     5.89\n",
      "\n",
      "1AIL\n",
      "         classic-abinitio    min:  -172.76  mean:  -131.39  std:    19.03\n",
      "                  rppf-mc    min:  -164.40  mean:  -137.77  std:    10.67\n",
      "                rppf-remc    min:  -166.29  mean:  -133.64  std:    11.20\n",
      "                sade-remc    min:  -167.59  mean:  -124.49  std:    16.50\n",
      "\n",
      "1CRN\n",
      "         classic-abinitio    min:   -79.64  mean:   -60.92  std:     8.73\n",
      "                  rppf-mc    min:   -81.41  mean:   -61.68  std:     6.97\n",
      "                rppf-remc    min:   -84.79  mean:   -61.76  std:     7.55\n",
      "                sade-remc    min:   -75.38  mean:   -54.99  std:    12.29\n",
      "\n",
      "1ENH\n",
      "         classic-abinitio    min:  -138.48  mean:  -104.29  std:    20.83\n",
      "                  rppf-mc    min:  -132.27  mean:  -115.89  std:     7.51\n",
      "                rppf-remc    min:  -129.42  mean:  -112.60  std:     8.44\n",
      "                sade-remc    min:  -131.70  mean:  -109.11  std:    12.23\n",
      "\n",
      "1L2Y\n",
      "         classic-abinitio    min:   -37.37  mean:   -27.02  std:     4.42\n",
      "                  rppf-mc    min:   -35.21  mean:   -25.85  std:     4.60\n",
      "                rppf-remc    min:   -38.43  mean:   -26.70  std:     5.28\n",
      "                sade-remc    min:   -34.92  mean:   -23.95  std:     6.79\n",
      "\n",
      "1ROP\n",
      "         classic-abinitio    min:  -159.52  mean:  -143.20  std:     8.49\n",
      "                  rppf-mc    min:  -166.20  mean:  -145.69  std:     9.05\n",
      "                rppf-remc    min:  -153.71  mean:  -133.55  std:    12.15\n",
      "                sade-remc    min:  -167.22  mean:  -147.85  std:     9.49\n",
      "\n",
      "1UTG\n",
      "         classic-abinitio    min:  -167.89  mean:  -138.33  std:    13.78\n",
      "                  rppf-mc    min:  -168.37  mean:  -149.34  std:     8.05\n",
      "                rppf-remc    min:  -169.02  mean:  -148.17  std:     9.78\n",
      "                sade-remc    min:  -164.00  mean:  -149.60  std:     8.19\n",
      "\n",
      "1WQC\n",
      "         classic-abinitio    min:   -56.10  mean:   -38.42  std:     6.13\n",
      "                  rppf-mc    min:   -54.35  mean:   -40.01  std:     6.00\n",
      "                rppf-remc    min:   -53.75  mean:   -39.15  std:     6.98\n",
      "                sade-remc    min:   -51.38  mean:   -36.06  std:     6.63\n",
      "\n",
      "1ZDD\n",
      "         classic-abinitio    min:   -82.61  mean:   -66.46  std:    11.80\n",
      "                  rppf-mc    min:   -82.01  mean:   -67.94  std:     7.78\n",
      "                rppf-remc    min:   -83.84  mean:   -67.94  std:     8.01\n",
      "                sade-remc    min:   -83.05  mean:   -69.69  std:     8.28\n",
      "\n",
      "2MR9\n",
      "         classic-abinitio    min:  -126.15  mean:   -98.34  std:    11.33\n",
      "                  rppf-mc    min:  -132.37  mean:  -109.37  std:     7.43\n",
      "                rppf-remc    min:  -126.97  mean:  -104.71  std:     7.14\n",
      "                sade-remc    min:  -126.07  mean:  -104.50  std:     8.83\n"
     ]
    }
   ],
   "source": [
    "experiment_summary_scorefxn = data_utils.experiment_summary(alldata, mode='best_by_energy', metric='scorefxn')\n",
    "pretty_print_experiment_summary(experiment_summary_scorefxn)"
   ]
  },
  {
   "cell_type": "markdown",
   "metadata": {},
   "source": [
    "## Experiment Summary with *Best by RMSD* "
   ]
  },
  {
   "cell_type": "markdown",
   "metadata": {},
   "source": [
    "## RMSD data"
   ]
  },
  {
   "cell_type": "code",
   "execution_count": 8,
   "metadata": {
    "scrolled": true
   },
   "outputs": [
    {
     "name": "stdout",
     "output_type": "stream",
     "text": [
      "\n",
      "1ACW\n",
      "         classic-abinitio    min:     5.85  mean:     7.48  std:     0.57\n",
      "                  rppf-mc    min:     4.45  mean:     5.86  std:     0.55\n",
      "                rppf-remc    min:     4.40  mean:     5.79  std:     0.63\n",
      "                sade-remc    min:     5.41  mean:     6.89  std:     0.64\n",
      "\n",
      "1AIL\n",
      "         classic-abinitio    min:     4.75  mean:     7.95  std:     1.56\n",
      "                  rppf-mc    min:     4.92  mean:     7.74  std:     1.20\n",
      "                rppf-remc    min:     4.11  mean:     7.42  std:     1.21\n",
      "                sade-remc    min:     4.26  mean:     8.57  std:     1.42\n",
      "\n",
      "1CRN\n",
      "         classic-abinitio    min:     4.30  mean:     6.57  std:     1.57\n",
      "                  rppf-mc    min:     4.18  mean:     6.73  std:     0.95\n",
      "                rppf-remc    min:     4.05  mean:     6.53  std:     0.91\n",
      "                sade-remc    min:     4.27  mean:     8.74  std:     1.55\n",
      "\n",
      "1ENH\n",
      "         classic-abinitio    min:     2.84  mean:     6.43  std:     1.28\n",
      "                  rppf-mc    min:     2.65  mean:     5.49  std:     1.23\n",
      "                rppf-remc    min:     2.45  mean:     5.27  std:     1.09\n",
      "                sade-remc    min:     3.32  mean:     5.94  std:     1.28\n",
      "\n",
      "1L2Y\n",
      "         classic-abinitio    min:     4.83  mean:     6.32  std:     0.54\n",
      "                  rppf-mc    min:     3.39  mean:     4.48  std:     0.45\n",
      "                rppf-remc    min:     3.65  mean:     4.51  std:     0.44\n",
      "                sade-remc    min:     4.88  mean:     6.32  std:     0.59\n",
      "\n",
      "1ROP\n",
      "         classic-abinitio    min:     3.46  mean:     4.75  std:     0.60\n",
      "                  rppf-mc    min:     2.18  mean:     3.72  std:     0.81\n",
      "                rppf-remc    min:     3.28  mean:     5.55  std:     1.25\n",
      "                sade-remc    min:     3.06  mean:     4.99  std:     0.67\n",
      "\n",
      "1UTG\n",
      "         classic-abinitio    min:     8.03  mean:    10.39  std:     1.17\n",
      "                  rppf-mc    min:     4.41  mean:     7.55  std:     1.41\n",
      "                rppf-remc    min:     5.28  mean:     7.47  std:     1.23\n",
      "                sade-remc    min:     4.76  mean:    10.03  std:     1.61\n",
      "\n",
      "1WQC\n",
      "         classic-abinitio    min:     2.50  mean:     4.58  std:     1.73\n",
      "                  rppf-mc    min:     2.15  mean:     3.91  std:     0.63\n",
      "                rppf-remc    min:     2.31  mean:     3.80  std:     0.64\n",
      "                sade-remc    min:     4.18  mean:     6.25  std:     1.23\n",
      "\n",
      "1ZDD\n",
      "         classic-abinitio    min:     0.91  mean:     2.36  std:     1.14\n",
      "                  rppf-mc    min:     1.07  mean:     2.50  std:     0.93\n",
      "                rppf-remc    min:     1.17  mean:     2.32  std:     0.65\n",
      "                sade-remc    min:     1.29  mean:     2.28  std:     0.85\n",
      "\n",
      "2MR9\n",
      "         classic-abinitio    min:     2.48  mean:     5.61  std:     1.79\n",
      "                  rppf-mc    min:     1.66  mean:     3.52  std:     0.89\n",
      "                rppf-remc    min:     1.55  mean:     3.37  std:     0.73\n",
      "                sade-remc    min:     1.86  mean:     3.95  std:     0.86\n"
     ]
    }
   ],
   "source": [
    "experiment_summary_scorefxn = data_utils.experiment_summary(alldata, mode='best_by_rmsd', metric='rmsd_after')\n",
    "pretty_print_experiment_summary(experiment_summary_scorefxn)"
   ]
  },
  {
   "cell_type": "markdown",
   "metadata": {},
   "source": [
    "## Energy Data"
   ]
  },
  {
   "cell_type": "code",
   "execution_count": 9,
   "metadata": {},
   "outputs": [
    {
     "name": "stdout",
     "output_type": "stream",
     "text": [
      "\n",
      "1ACW\n",
      "         classic-abinitio    min:   -52.05  mean:   -39.61  std:     5.32\n",
      "                  rppf-mc    min:   -48.45  mean:   -17.51  std:    29.83\n",
      "                rppf-remc    min:   -48.66  mean:    -8.08  std:    25.55\n",
      "                sade-remc    min:   -52.16  mean:   -39.48  std:     5.89\n",
      "\n",
      "1AIL\n",
      "         classic-abinitio    min:  -172.76  mean:  -131.39  std:    19.03\n",
      "                  rppf-mc    min:  -155.02  mean:  -111.78  std:    26.82\n",
      "                rppf-remc    min:  -166.29  mean:  -107.67  std:    33.95\n",
      "                sade-remc    min:  -167.59  mean:  -124.49  std:    16.50\n",
      "\n",
      "1CRN\n",
      "         classic-abinitio    min:   -79.64  mean:   -60.92  std:     8.73\n",
      "                  rppf-mc    min:   -70.05  mean:   -39.16  std:    22.74\n",
      "                rppf-remc    min:   -84.79  mean:   -40.16  std:    29.30\n",
      "                sade-remc    min:   -75.38  mean:   -54.99  std:    12.29\n",
      "\n",
      "1ENH\n",
      "         classic-abinitio    min:  -138.48  mean:  -104.29  std:    20.83\n",
      "                  rppf-mc    min:  -132.27  mean:   -98.46  std:    24.18\n",
      "                rppf-remc    min:  -128.00  mean:   -91.25  std:    33.81\n",
      "                sade-remc    min:  -131.70  mean:  -109.11  std:    12.23\n",
      "\n",
      "1L2Y\n",
      "         classic-abinitio    min:   -37.37  mean:   -27.02  std:     4.42\n",
      "                  rppf-mc    min:   -30.57  mean:     1.92  std:    36.50\n",
      "                rppf-remc    min:   -36.64  mean:     9.17  std:    26.72\n",
      "                sade-remc    min:   -34.92  mean:   -23.95  std:     6.79\n",
      "\n",
      "1ROP\n",
      "         classic-abinitio    min:  -159.52  mean:  -143.20  std:     8.49\n",
      "                  rppf-mc    min:  -166.20  mean:  -133.99  std:    18.12\n",
      "                rppf-remc    min:  -153.68  mean:  -119.78  std:    27.00\n",
      "                sade-remc    min:  -167.22  mean:  -147.85  std:     9.49\n",
      "\n",
      "1UTG\n",
      "         classic-abinitio    min:  -167.89  mean:  -138.33  std:    13.78\n",
      "                  rppf-mc    min:  -163.04  mean:  -122.08  std:    29.09\n",
      "                rppf-remc    min:  -164.48  mean:  -112.84  std:    34.67\n",
      "                sade-remc    min:  -164.00  mean:  -149.60  std:     8.19\n",
      "\n",
      "1WQC\n",
      "         classic-abinitio    min:   -56.10  mean:   -38.42  std:     6.13\n",
      "                  rppf-mc    min:   -51.85  mean:   -14.18  std:    23.20\n",
      "                rppf-remc    min:   -50.78  mean:    -7.00  std:    34.32\n",
      "                sade-remc    min:   -51.38  mean:   -36.06  std:     6.63\n",
      "\n",
      "1ZDD\n",
      "         classic-abinitio    min:   -82.61  mean:   -66.46  std:    11.80\n",
      "                  rppf-mc    min:   -82.01  mean:   -62.67  std:    16.55\n",
      "                rppf-remc    min:   -83.84  mean:   -64.13  std:    15.61\n",
      "                sade-remc    min:   -83.05  mean:   -69.69  std:     8.28\n",
      "\n",
      "2MR9\n",
      "         classic-abinitio    min:  -126.15  mean:   -98.34  std:    11.33\n",
      "                  rppf-mc    min:  -132.37  mean:  -101.48  std:    13.87\n",
      "                rppf-remc    min:  -126.97  mean:   -93.67  std:    21.10\n",
      "                sade-remc    min:  -126.07  mean:  -104.50  std:     8.83\n"
     ]
    }
   ],
   "source": [
    "experiment_summary_scorefxn = data_utils.experiment_summary(alldata, mode='best_by_rmsd', metric='scorefxn')\n",
    "pretty_print_experiment_summary(experiment_summary_scorefxn)"
   ]
  },
  {
   "cell_type": "markdown",
   "metadata": {},
   "source": [
    "# Something something"
   ]
  },
  {
   "cell_type": "code",
   "execution_count": 10,
   "metadata": {},
   "outputs": [],
   "source": [
    "def get_entry(data):\n",
    "    data = data['data']\n",
    "    \n",
    "    return '%.2f (%6.2f \\pm %6.2f)' % (\n",
    "        data['min'], data['mean'], data['std']\n",
    "    )\n",
    "        \n",
    "def tabularize(mode='best_by_rmsd'):\n",
    "    rmsd_summary = data_utils.experiment_summary(alldata, mode='best_by_rmsd', metric='rmsd_after')\n",
    "    energy_summary = data_utils.experiment_summary(alldata, mode='best_by_energy', metric='scorefxn')\n",
    "    proteins = sorted(rmsd_summary.keys())\n",
    "    \n",
    "    print('\\\\begin{table}')\n",
    "    print('\\\\centering')\n",
    "    print('\\\\begin{tabular}{r|r|c|c}')\n",
    "    \n",
    "    for protein in proteins:    \n",
    "        print('\\\\hline')\n",
    "        \n",
    "        methods = sorted(rmsd_summary[protein].keys())\n",
    "        \n",
    "        for method in methods:\n",
    "            print('%s & %18s & $%s$ & $%s$ \\\\\\\\ \\\\hline' % (\n",
    "                protein,\n",
    "                method.replace('_', '-'),\n",
    "                get_entry(rmsd_summary[protein][method]),\n",
    "                get_entry(energy_summary[protein][method]),\n",
    "            ))\n",
    "            \n",
    "    print('\\\\end{tabular}')\n",
    "    print('\\\\caption{Caption}')\n",
    "    print('\\\\label{label}')\n",
    "    print('\\\\end{table}')"
   ]
  },
  {
   "cell_type": "code",
   "execution_count": 11,
   "metadata": {},
   "outputs": [
    {
     "name": "stdout",
     "output_type": "stream",
     "text": [
      "\\begin{table}\n",
      "\\centering\n",
      "\\begin{tabular}{r|r|c|c}\n",
      "\\hline\n",
      "1acw &   classic-abinitio & $5.85 (  7.48 \\pm   0.57)$ & $-52.05 (-39.61 \\pm   5.32)$ \\\\ \\hline\n",
      "1acw &            rppf-mc & $4.45 (  5.86 \\pm   0.55)$ & $-56.71 (-39.81 \\pm   5.51)$ \\\\ \\hline\n",
      "1acw &          rppf-remc & $4.40 (  5.79 \\pm   0.63)$ & $-52.66 (-36.85 \\pm   7.27)$ \\\\ \\hline\n",
      "1acw &          sade-remc & $5.41 (  6.89 \\pm   0.64)$ & $-52.16 (-39.48 \\pm   5.89)$ \\\\ \\hline\n",
      "\\hline\n",
      "1ail &   classic-abinitio & $4.75 (  7.95 \\pm   1.56)$ & $-172.76 (-131.39 \\pm  19.03)$ \\\\ \\hline\n",
      "1ail &            rppf-mc & $4.92 (  7.74 \\pm   1.20)$ & $-164.40 (-137.77 \\pm  10.67)$ \\\\ \\hline\n",
      "1ail &          rppf-remc & $4.11 (  7.42 \\pm   1.21)$ & $-166.29 (-133.64 \\pm  11.20)$ \\\\ \\hline\n",
      "1ail &          sade-remc & $4.26 (  8.57 \\pm   1.42)$ & $-167.59 (-124.49 \\pm  16.50)$ \\\\ \\hline\n",
      "\\hline\n",
      "1crn &   classic-abinitio & $4.30 (  6.57 \\pm   1.57)$ & $-79.64 (-60.92 \\pm   8.73)$ \\\\ \\hline\n",
      "1crn &            rppf-mc & $4.18 (  6.73 \\pm   0.95)$ & $-81.41 (-61.68 \\pm   6.97)$ \\\\ \\hline\n",
      "1crn &          rppf-remc & $4.05 (  6.53 \\pm   0.91)$ & $-84.79 (-61.76 \\pm   7.55)$ \\\\ \\hline\n",
      "1crn &          sade-remc & $4.27 (  8.74 \\pm   1.55)$ & $-75.38 (-54.99 \\pm  12.29)$ \\\\ \\hline\n",
      "\\hline\n",
      "1enh &   classic-abinitio & $2.84 (  6.43 \\pm   1.28)$ & $-138.48 (-104.29 \\pm  20.83)$ \\\\ \\hline\n",
      "1enh &            rppf-mc & $2.65 (  5.49 \\pm   1.23)$ & $-132.27 (-115.89 \\pm   7.51)$ \\\\ \\hline\n",
      "1enh &          rppf-remc & $2.45 (  5.27 \\pm   1.09)$ & $-129.42 (-112.60 \\pm   8.44)$ \\\\ \\hline\n",
      "1enh &          sade-remc & $3.32 (  5.94 \\pm   1.28)$ & $-131.70 (-109.11 \\pm  12.23)$ \\\\ \\hline\n",
      "\\hline\n",
      "1l2y &   classic-abinitio & $4.83 (  6.32 \\pm   0.54)$ & $-37.37 (-27.02 \\pm   4.42)$ \\\\ \\hline\n",
      "1l2y &            rppf-mc & $3.39 (  4.48 \\pm   0.45)$ & $-35.21 (-25.85 \\pm   4.60)$ \\\\ \\hline\n",
      "1l2y &          rppf-remc & $3.65 (  4.51 \\pm   0.44)$ & $-38.43 (-26.70 \\pm   5.28)$ \\\\ \\hline\n",
      "1l2y &          sade-remc & $4.88 (  6.32 \\pm   0.59)$ & $-34.92 (-23.95 \\pm   6.79)$ \\\\ \\hline\n",
      "\\hline\n",
      "1rop &   classic-abinitio & $3.46 (  4.75 \\pm   0.60)$ & $-159.52 (-143.20 \\pm   8.49)$ \\\\ \\hline\n",
      "1rop &            rppf-mc & $2.18 (  3.72 \\pm   0.81)$ & $-166.20 (-145.69 \\pm   9.05)$ \\\\ \\hline\n",
      "1rop &          rppf-remc & $3.28 (  5.55 \\pm   1.25)$ & $-153.71 (-133.55 \\pm  12.15)$ \\\\ \\hline\n",
      "1rop &          sade-remc & $3.06 (  4.99 \\pm   0.67)$ & $-167.22 (-147.85 \\pm   9.49)$ \\\\ \\hline\n",
      "\\hline\n",
      "1utg &   classic-abinitio & $8.03 ( 10.39 \\pm   1.17)$ & $-167.89 (-138.33 \\pm  13.78)$ \\\\ \\hline\n",
      "1utg &            rppf-mc & $4.41 (  7.55 \\pm   1.41)$ & $-168.37 (-149.34 \\pm   8.05)$ \\\\ \\hline\n",
      "1utg &          rppf-remc & $5.28 (  7.47 \\pm   1.23)$ & $-169.02 (-148.17 \\pm   9.78)$ \\\\ \\hline\n",
      "1utg &          sade-remc & $4.76 ( 10.03 \\pm   1.61)$ & $-164.00 (-149.60 \\pm   8.19)$ \\\\ \\hline\n",
      "\\hline\n",
      "1wqc &   classic-abinitio & $2.50 (  4.58 \\pm   1.73)$ & $-56.10 (-38.42 \\pm   6.13)$ \\\\ \\hline\n",
      "1wqc &            rppf-mc & $2.15 (  3.91 \\pm   0.63)$ & $-54.35 (-40.01 \\pm   6.00)$ \\\\ \\hline\n",
      "1wqc &          rppf-remc & $2.31 (  3.80 \\pm   0.64)$ & $-53.75 (-39.15 \\pm   6.98)$ \\\\ \\hline\n",
      "1wqc &          sade-remc & $4.18 (  6.25 \\pm   1.23)$ & $-51.38 (-36.06 \\pm   6.63)$ \\\\ \\hline\n",
      "\\hline\n",
      "1zdd &   classic-abinitio & $0.91 (  2.36 \\pm   1.14)$ & $-82.61 (-66.46 \\pm  11.80)$ \\\\ \\hline\n",
      "1zdd &            rppf-mc & $1.07 (  2.50 \\pm   0.93)$ & $-82.01 (-67.94 \\pm   7.78)$ \\\\ \\hline\n",
      "1zdd &          rppf-remc & $1.17 (  2.32 \\pm   0.65)$ & $-83.84 (-67.94 \\pm   8.01)$ \\\\ \\hline\n",
      "1zdd &          sade-remc & $1.29 (  2.28 \\pm   0.85)$ & $-83.05 (-69.69 \\pm   8.28)$ \\\\ \\hline\n",
      "\\hline\n",
      "2mr9 &   classic-abinitio & $2.48 (  5.61 \\pm   1.79)$ & $-126.15 (-98.34 \\pm  11.33)$ \\\\ \\hline\n",
      "2mr9 &            rppf-mc & $1.66 (  3.52 \\pm   0.89)$ & $-132.37 (-109.37 \\pm   7.43)$ \\\\ \\hline\n",
      "2mr9 &          rppf-remc & $1.55 (  3.37 \\pm   0.73)$ & $-126.97 (-104.71 \\pm   7.14)$ \\\\ \\hline\n",
      "2mr9 &          sade-remc & $1.86 (  3.95 \\pm   0.86)$ & $-126.07 (-104.50 \\pm   8.83)$ \\\\ \\hline\n",
      "\\end{tabular}\n",
      "\\caption{Caption}\n",
      "\\label{label}\n",
      "\\end{table}\n"
     ]
    }
   ],
   "source": [
    "tabularize()"
   ]
  },
  {
   "cell_type": "code",
   "execution_count": null,
   "metadata": {},
   "outputs": [],
   "source": []
  }
 ],
 "metadata": {
  "kernelspec": {
   "display_name": "Python 3",
   "language": "python",
   "name": "python3"
  },
  "language_info": {
   "codemirror_mode": {
    "name": "ipython",
    "version": 3
   },
   "file_extension": ".py",
   "mimetype": "text/x-python",
   "name": "python",
   "nbconvert_exporter": "python",
   "pygments_lexer": "ipython3",
   "version": "3.5.7"
  }
 },
 "nbformat": 4,
 "nbformat_minor": 2
}
