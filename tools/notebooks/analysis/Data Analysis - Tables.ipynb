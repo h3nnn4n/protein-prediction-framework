{
 "cells": [
  {
   "cell_type": "markdown",
   "metadata": {},
   "source": [
    "# Data analysis"
   ]
  },
  {
   "cell_type": "markdown",
   "metadata": {},
   "source": [
    "Experiment information:\n",
    "- One million function evaluations\n",
    "- **sade_remc**: is the best method from HM, but with more evals\n",
    "- **sade_mc_final**: is sade + MC + ffi9 + rmsd crowding + spicker + hooke jeeves on cluster centroids\n",
    "- **sade_remc_final**: is the same as above, but REMC instead of MC\n",
    "- **sade_mc_ffi9_02**: is HM method + forced fragment insertion of size 2 with 0.02 chance of happening per individal per generation\n",
    "- **sade_remc_ffi9_02**: same as above but with REMC instead of MC"
   ]
  },
  {
   "cell_type": "code",
   "execution_count": 1,
   "metadata": {},
   "outputs": [],
   "source": [
    "import datetime\n",
    "import string\n",
    "import random\n",
    "import pickle\n",
    "import time\n",
    "import sys\n",
    "import os\n",
    "import re\n",
    "\n",
    "import data_utils\n",
    "\n",
    "import numpy as np\n",
    "import pandas as pd\n",
    "import seaborn as sns\n",
    "import matplotlib.pyplot as plt\n",
    "\n",
    "%matplotlib inline\n",
    "sns.set(style=\"whitegrid\");"
   ]
  },
  {
   "cell_type": "code",
   "execution_count": 2,
   "metadata": {},
   "outputs": [],
   "source": [
    "root_path = '/home/h3nnn4n/progs/de_supimpa/tools/notebooks/analysis'\n",
    "base_path = '/home/h3nnn4n/progs/de_supimpa/src'\n",
    "\n",
    "\n",
    "def reset_path():\n",
    "    os.chdir(base_path)\n",
    "    \n",
    "def reset_to_root_path():\n",
    "    os.chdir(root_path)\n",
    "\n",
    "    \n",
    "reset_to_root_path()\n",
    "reset_path()"
   ]
  },
  {
   "cell_type": "code",
   "execution_count": 3,
   "metadata": {},
   "outputs": [],
   "source": [
    "runs = [\n",
    "    'de_experiment_final',\n",
    "    'de_sade_remc',\n",
    "    'de_rosetta',\n",
    "    'de_ffi'\n",
    "]"
   ]
  },
  {
   "cell_type": "code",
   "execution_count": 4,
   "metadata": {},
   "outputs": [
    {
     "name": "stdout",
     "output_type": "stream",
     "text": [
      "INFO: Loaded 4 experiment runs dataset\n"
     ]
    }
   ],
   "source": [
    "dataset = data_utils.load_all_data(runs)\n",
    "alldata = data_utils.merge_data(dataset)"
   ]
  },
  {
   "cell_type": "code",
   "execution_count": 5,
   "metadata": {},
   "outputs": [],
   "source": [
    "def pretty_print_experiment_summary(experiment_summary):\n",
    "    def protein_summary_print(p_data):\n",
    "        keys = sorted(p_data.keys())\n",
    "\n",
    "        for key in keys:\n",
    "            experiment = p_data[key]\n",
    "            name = key\n",
    "            data = experiment['data']\n",
    "\n",
    "            print('%25s    min: %8.2f  mean: %8.2f  std: %8.2f' % (\n",
    "                name, data['min'], data['mean'], data['std']\n",
    "            ))\n",
    "    \n",
    "    for protein in sorted(experiment_summary.keys()):\n",
    "        print()\n",
    "        print(protein.upper())\n",
    "\n",
    "        protein_summary_print(experiment_summary[protein])"
   ]
  },
  {
   "cell_type": "markdown",
   "metadata": {},
   "source": [
    "## Experiment Summary with *Best by Energy*"
   ]
  },
  {
   "cell_type": "markdown",
   "metadata": {},
   "source": [
    "### RMSD data"
   ]
  },
  {
   "cell_type": "code",
   "execution_count": 6,
   "metadata": {},
   "outputs": [
    {
     "name": "stdout",
     "output_type": "stream",
     "text": [
      "\n",
      "1AIL\n",
      "         classic-abinitio    min:     4.75  mean:     7.95  std:     1.56\n",
      "          sade_mc_ffi9_02    min:     6.37  mean:     8.54  std:     1.15\n",
      "            sade_mc_final    min:     5.69  mean:    10.15  std:     2.39\n",
      "                sade_remc    min:     4.26  mean:     8.57  std:     1.42\n",
      "        sade_remc_ffi9_02    min:     4.46  mean:     8.17  std:     1.36\n",
      "          sade_remc_final    min:     6.25  mean:    10.55  std:     3.44\n",
      "\n",
      "1CRN\n",
      "         classic-abinitio    min:     4.30  mean:     6.57  std:     1.57\n",
      "          sade_mc_ffi9_02    min:     4.15  mean:     8.60  std:     1.52\n",
      "            sade_mc_final    min:     5.76  mean:     8.50  std:     1.27\n",
      "                sade_remc    min:     4.27  mean:     8.74  std:     1.55\n",
      "        sade_remc_ffi9_02    min:     5.06  mean:     8.50  std:     1.32\n",
      "          sade_remc_final    min:     4.14  mean:     7.96  std:     1.75\n",
      "\n",
      "1ENH\n",
      "         classic-abinitio    min:     2.84  mean:     6.43  std:     1.28\n",
      "          sade_mc_ffi9_02    min:     3.42  mean:     6.15  std:     1.18\n",
      "            sade_mc_final    min:     3.36  mean:     7.89  std:     2.20\n",
      "                sade_remc    min:     3.32  mean:     5.94  std:     1.28\n",
      "        sade_remc_ffi9_02    min:     2.55  mean:     5.70  std:     1.31\n",
      "          sade_remc_final    min:     3.65  mean:     7.39  std:     2.39\n",
      "\n",
      "1ZDD\n",
      "         classic-abinitio    min:     0.91  mean:     2.36  std:     1.14\n",
      "          sade_mc_ffi9_02    min:     1.27  mean:     2.74  std:     1.42\n",
      "            sade_mc_final    min:     1.07  mean:     3.13  std:     1.65\n",
      "                sade_remc    min:     1.29  mean:     2.28  std:     0.85\n",
      "        sade_remc_ffi9_02    min:     1.19  mean:     2.20  std:     0.59\n",
      "          sade_remc_final    min:     1.17  mean:     2.86  std:     1.41\n"
     ]
    }
   ],
   "source": [
    "experiment_summary_rmsd = data_utils.experiment_summary(alldata, mode='best_by_energy', metric='rmsd_after')\n",
    "pretty_print_experiment_summary(experiment_summary_rmsd)"
   ]
  },
  {
   "cell_type": "markdown",
   "metadata": {},
   "source": [
    "## Energy data "
   ]
  },
  {
   "cell_type": "code",
   "execution_count": 7,
   "metadata": {},
   "outputs": [
    {
     "name": "stdout",
     "output_type": "stream",
     "text": [
      "\n",
      "1AIL\n",
      "         classic-abinitio    min:  -172.76  mean:  -131.39  std:    19.03\n",
      "          sade_mc_ffi9_02    min:  -153.65  mean:  -121.99  std:    19.02\n",
      "            sade_mc_final    min:  -160.78  mean:  -138.59  std:    10.18\n",
      "                sade_remc    min:  -167.59  mean:  -124.49  std:    16.50\n",
      "        sade_remc_ffi9_02    min:  -160.07  mean:  -131.82  std:    17.00\n",
      "          sade_remc_final    min:  -166.29  mean:  -134.65  std:    11.21\n",
      "\n",
      "1CRN\n",
      "         classic-abinitio    min:   -79.64  mean:   -60.92  std:     8.73\n",
      "          sade_mc_ffi9_02    min:   -75.67  mean:   -53.17  std:     8.49\n",
      "            sade_mc_final    min:   -75.86  mean:   -62.55  std:     6.50\n",
      "                sade_remc    min:   -75.38  mean:   -54.99  std:    12.29\n",
      "        sade_remc_ffi9_02    min:   -74.92  mean:   -54.47  std:     8.35\n",
      "          sade_remc_final    min:   -84.79  mean:   -61.62  std:     7.38\n",
      "\n",
      "1ENH\n",
      "         classic-abinitio    min:  -138.48  mean:  -104.29  std:    20.83\n",
      "          sade_mc_ffi9_02    min:  -131.49  mean:  -105.35  std:    12.20\n",
      "            sade_mc_final    min:  -132.27  mean:  -114.84  std:     7.74\n",
      "                sade_remc    min:  -131.70  mean:  -109.11  std:    12.23\n",
      "        sade_remc_ffi9_02    min:  -128.03  mean:  -106.71  std:    15.52\n",
      "          sade_remc_final    min:  -129.42  mean:  -113.61  std:     8.47\n",
      "\n",
      "1ZDD\n",
      "         classic-abinitio    min:   -82.61  mean:   -66.46  std:    11.80\n",
      "          sade_mc_ffi9_02    min:   -82.22  mean:   -64.63  std:    12.49\n",
      "            sade_mc_final    min:   -81.64  mean:   -67.58  std:     6.82\n",
      "                sade_remc    min:   -83.05  mean:   -69.69  std:     8.28\n",
      "        sade_remc_ffi9_02    min:   -79.88  mean:   -69.39  std:     7.56\n",
      "          sade_remc_final    min:   -83.46  mean:   -66.00  std:     8.63\n"
     ]
    }
   ],
   "source": [
    "experiment_summary_scorefxn = data_utils.experiment_summary(alldata, mode='best_by_energy', metric='scorefxn')\n",
    "pretty_print_experiment_summary(experiment_summary_scorefxn)"
   ]
  },
  {
   "cell_type": "markdown",
   "metadata": {},
   "source": [
    "## Experiment Summary with *Best by RMSD* "
   ]
  },
  {
   "cell_type": "markdown",
   "metadata": {},
   "source": [
    "## RMSD data"
   ]
  },
  {
   "cell_type": "code",
   "execution_count": 8,
   "metadata": {},
   "outputs": [
    {
     "name": "stdout",
     "output_type": "stream",
     "text": [
      "\n",
      "1AIL\n",
      "         classic-abinitio    min:     4.75  mean:     7.95  std:     1.56\n",
      "          sade_mc_ffi9_02    min:     6.37  mean:     8.54  std:     1.15\n",
      "            sade_mc_final    min:     4.92  mean:     7.69  std:     1.22\n",
      "                sade_remc    min:     4.26  mean:     8.57  std:     1.42\n",
      "        sade_remc_ffi9_02    min:     4.46  mean:     8.17  std:     1.36\n",
      "          sade_remc_final    min:     4.79  mean:     7.57  std:     1.14\n",
      "\n",
      "1CRN\n",
      "         classic-abinitio    min:     4.30  mean:     6.57  std:     1.57\n",
      "          sade_mc_ffi9_02    min:     4.15  mean:     8.60  std:     1.52\n",
      "            sade_mc_final    min:     4.35  mean:     6.82  std:     0.98\n",
      "                sade_remc    min:     4.27  mean:     8.74  std:     1.55\n",
      "        sade_remc_ffi9_02    min:     5.06  mean:     8.50  std:     1.32\n",
      "          sade_remc_final    min:     4.14  mean:     6.44  std:     0.87\n",
      "\n",
      "1ENH\n",
      "         classic-abinitio    min:     2.84  mean:     6.43  std:     1.28\n",
      "          sade_mc_ffi9_02    min:     3.42  mean:     6.15  std:     1.18\n",
      "            sade_mc_final    min:     3.10  mean:     5.48  std:     1.14\n",
      "                sade_remc    min:     3.32  mean:     5.94  std:     1.28\n",
      "        sade_remc_ffi9_02    min:     2.55  mean:     5.70  std:     1.31\n",
      "          sade_remc_final    min:     3.45  mean:     5.29  std:     0.98\n",
      "\n",
      "1ZDD\n",
      "         classic-abinitio    min:     0.91  mean:     2.36  std:     1.14\n",
      "          sade_mc_ffi9_02    min:     1.27  mean:     2.74  std:     1.42\n",
      "            sade_mc_final    min:     1.07  mean:     2.47  std:     0.94\n",
      "                sade_remc    min:     1.29  mean:     2.28  std:     0.85\n",
      "        sade_remc_ffi9_02    min:     1.19  mean:     2.20  std:     0.59\n",
      "          sade_remc_final    min:     1.17  mean:     2.40  std:     0.72\n"
     ]
    }
   ],
   "source": [
    "experiment_summary_scorefxn = data_utils.experiment_summary(alldata, mode='best_by_rmsd', metric='rmsd_after')\n",
    "pretty_print_experiment_summary(experiment_summary_scorefxn)"
   ]
  },
  {
   "cell_type": "markdown",
   "metadata": {},
   "source": [
    "## Energy Data"
   ]
  },
  {
   "cell_type": "code",
   "execution_count": 9,
   "metadata": {},
   "outputs": [
    {
     "name": "stdout",
     "output_type": "stream",
     "text": [
      "\n",
      "1AIL\n",
      "         classic-abinitio    min:  -172.76  mean:  -131.39  std:    19.03\n",
      "          sade_mc_ffi9_02    min:  -153.65  mean:  -121.99  std:    19.02\n",
      "            sade_mc_final    min:  -152.81  mean:  -109.20  std:    30.51\n",
      "                sade_remc    min:  -167.59  mean:  -124.49  std:    16.50\n",
      "        sade_remc_ffi9_02    min:  -160.07  mean:  -131.82  std:    17.00\n",
      "          sade_remc_final    min:  -166.29  mean:  -101.15  std:    38.71\n",
      "\n",
      "1CRN\n",
      "         classic-abinitio    min:   -79.64  mean:   -60.92  std:     8.73\n",
      "          sade_mc_ffi9_02    min:   -75.67  mean:   -53.17  std:     8.49\n",
      "            sade_mc_final    min:   -67.01  mean:   -38.71  std:    24.16\n",
      "                sade_remc    min:   -75.38  mean:   -54.99  std:    12.29\n",
      "        sade_remc_ffi9_02    min:   -74.92  mean:   -54.47  std:     8.35\n",
      "          sade_remc_final    min:   -84.79  mean:   -40.05  std:    30.07\n",
      "\n",
      "1ENH\n",
      "         classic-abinitio    min:  -138.48  mean:  -104.29  std:    20.83\n",
      "          sade_mc_ffi9_02    min:  -131.49  mean:  -105.35  std:    12.20\n",
      "            sade_mc_final    min:  -132.27  mean:   -93.36  std:    27.32\n",
      "                sade_remc    min:  -131.70  mean:  -109.11  std:    12.23\n",
      "        sade_remc_ffi9_02    min:  -128.03  mean:  -106.71  std:    15.52\n",
      "          sade_remc_final    min:  -128.00  mean:   -86.57  std:    38.54\n",
      "\n",
      "1ZDD\n",
      "         classic-abinitio    min:   -82.61  mean:   -66.46  std:    11.80\n",
      "          sade_mc_ffi9_02    min:   -82.22  mean:   -64.63  std:    12.49\n",
      "            sade_mc_final    min:   -81.64  mean:   -62.86  std:    14.46\n",
      "                sade_remc    min:   -83.05  mean:   -69.69  std:     8.28\n",
      "        sade_remc_ffi9_02    min:   -79.88  mean:   -69.39  std:     7.56\n",
      "          sade_remc_final    min:   -83.46  mean:   -59.87  std:    20.45\n"
     ]
    }
   ],
   "source": [
    "experiment_summary_scorefxn = data_utils.experiment_summary(alldata, mode='best_by_rmsd', metric='scorefxn')\n",
    "pretty_print_experiment_summary(experiment_summary_scorefxn)"
   ]
  },
  {
   "cell_type": "code",
   "execution_count": null,
   "metadata": {},
   "outputs": [],
   "source": []
  }
 ],
 "metadata": {
  "kernelspec": {
   "display_name": "Python 3",
   "language": "python",
   "name": "python3"
  },
  "language_info": {
   "codemirror_mode": {
    "name": "ipython",
    "version": 3
   },
   "file_extension": ".py",
   "mimetype": "text/x-python",
   "name": "python",
   "nbconvert_exporter": "python",
   "pygments_lexer": "ipython3",
   "version": "3.5.4"
  }
 },
 "nbformat": 4,
 "nbformat_minor": 2
}
