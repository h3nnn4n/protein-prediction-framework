{
 "cells": [
  {
   "cell_type": "code",
   "execution_count": 1,
   "metadata": {},
   "outputs": [],
   "source": [
    "import numpy as np\n",
    "import os\n",
    "import scipy.stats"
   ]
  },
  {
   "cell_type": "code",
   "execution_count": 2,
   "metadata": {},
   "outputs": [
    {
     "name": "stdout",
     "output_type": "stream",
     "text": [
      "Found 1ail\n",
      "Found 1zdd\n",
      "Found 1enh\n",
      "Found 1crn\n"
     ]
    }
   ],
   "source": [
    "target_path = 'test_mc_bugfree'\n",
    "\n",
    "os.chdir(target_path)\n",
    "\n",
    "prots = []\n",
    "algs = []\n",
    "data = {}\n",
    "\n",
    "for f in os.listdir():\n",
    "    if os.path.isdir(f) and len(f) == 4:\n",
    "        print('Found %s' % f)\n",
    "        prots.append(f)\n",
    "        os.chdir(f)\n",
    "        data[f] = {}\n",
    "        for ff in os.listdir():\n",
    "            if os.path.isfile(ff) and 'raw' in ff and '10' not in ff:\n",
    "            #if os.path.isfile(ff) and 'raw' in ff:\n",
    "                base_name = ff[5:-8]\n",
    "                if base_name not in algs:\n",
    "                    algs.append(base_name)\n",
    "                data[f][base_name] = {'rmsd': [], 'score': []}\n",
    "                with open(ff) as datafile:\n",
    "                    for line in datafile.readlines():\n",
    "                        tokens = line.strip().split(' ')\n",
    "                        score = float(tokens[1])\n",
    "                        rmsd = float(tokens[5])\n",
    "\n",
    "                        data[f][base_name]['rmsd'].append(rmsd)\n",
    "                        data[f][base_name]['score'].append(score)\n",
    "        os.chdir('..')\n",
    "\n",
    "os.chdir('..')\n",
    "\n",
    "os.chdir('/home/h3nnn4n/progs/de_supimpa/src/de')\n",
    "\n",
    "algs = sorted(algs, key=len)"
   ]
  },
  {
   "cell_type": "code",
   "execution_count": 3,
   "metadata": {},
   "outputs": [],
   "source": [
    "ignore_prots = True\n",
    "\n",
    "mode = 'score'\n",
    "#mode = 'rmsd'\n",
    "\n",
    "for prot in prots:\n",
    "    comp = []\n",
    "    for alg in algs:\n",
    "        comp.append(data[prot][alg][mode])"
   ]
  },
  {
   "cell_type": "code",
   "execution_count": 4,
   "metadata": {},
   "outputs": [
    {
     "name": "stdout",
     "output_type": "stream",
     "text": [
      "KruskalResult(statistic=63.754496314496237, pvalue=7.0107133110784886e-10)\n",
      "F_onewayResult(statistic=16.828752888714828, pvalue=2.2317543495994304e-17)\n"
     ]
    }
   ],
   "source": [
    "print(scipy.stats.kruskal(*comp))\n",
    "print(scipy.stats.f_oneway(*comp))"
   ]
  },
  {
   "cell_type": "code",
   "execution_count": 5,
   "metadata": {},
   "outputs": [
    {
     "name": "stdout",
     "output_type": "stream",
     "text": [
      "---------------------- EQUIVALENT TO ----------------------\n",
      "                  sade_ss: sade_de sade_de_ss \n",
      "                  sade_de: sade_ss \n",
      "                sade_frag: sade_de_frag_ss sade_best1exp_frag sade_currToBest_frag \n",
      "               sade_de_ss: sade_ss \n",
      "             sade_frag_ss: sade_de_frag sade_de_frag_ss sade_best1exp_frag sade_currToBest_frag sade_best1exp_frag_ss sade_currToBest_frag_ss \n",
      "             sade_de_frag: sade_frag_ss sade_de_frag_ss sade_best1exp_frag sade_best1exp_frag_ss sade_currToBest_frag_ss \n",
      "          sade_de_frag_ss: sade_frag sade_frag_ss sade_de_frag sade_best1exp_frag sade_currToBest_frag sade_best1exp_frag_ss sade_currToBest_frag_ss \n",
      "       sade_best1exp_frag: sade_frag sade_frag_ss sade_de_frag sade_de_frag_ss sade_currToBest_frag sade_best1exp_frag_ss sade_currToBest_frag_ss \n",
      "     sade_currToBest_frag: sade_frag sade_frag_ss sade_de_frag_ss sade_best1exp_frag sade_best1exp_frag_ss sade_currToBest_frag_ss \n",
      "    sade_best1exp_frag_ss: sade_frag_ss sade_de_frag sade_de_frag_ss sade_best1exp_frag sade_currToBest_frag sade_currToBest_frag_ss \n",
      "  sade_currToBest_frag_ss: sade_frag_ss sade_de_frag sade_de_frag_ss sade_best1exp_frag sade_currToBest_frag sade_best1exp_frag_ss \n",
      "\n",
      "---------------------- BETTER THAN ----------------------\n",
      "                  sade_ss: \n",
      "                  sade_de: \n",
      "                sade_frag: sade_ss sade_de sade_de_ss sade_frag_ss sade_de_frag sade_best1exp_frag_ss sade_currToBest_frag_ss \n",
      "               sade_de_ss: sade_de \n",
      "             sade_frag_ss: sade_ss sade_de sade_de_ss \n",
      "             sade_de_frag: sade_ss sade_de sade_de_ss \n",
      "          sade_de_frag_ss: sade_ss sade_de sade_de_ss \n",
      "       sade_best1exp_frag: sade_ss sade_de sade_de_ss \n",
      "     sade_currToBest_frag: sade_ss sade_de sade_de_ss sade_de_frag \n",
      "    sade_best1exp_frag_ss: sade_ss sade_de sade_de_ss \n",
      "  sade_currToBest_frag_ss: sade_ss sade_de sade_de_ss \n",
      "\n",
      "---------------------- N best ----------------------\n",
      "                  sade_ss:  0\n",
      "                  sade_de:  0\n",
      "                sade_frag:  7\n",
      "               sade_de_ss:  1\n",
      "             sade_frag_ss:  3\n",
      "             sade_de_frag:  3\n",
      "          sade_de_frag_ss:  3\n",
      "       sade_best1exp_frag:  3\n",
      "     sade_currToBest_frag:  4\n",
      "    sade_best1exp_frag_ss:  3\n",
      "  sade_currToBest_frag_ss:  3\n",
      "\n",
      "---------------------- CONFIDENCE INTERVAL ----------------------\n",
      "                  sade_ss:  86.3536 150.1642\n",
      "                  sade_de: 116.2087 216.7007\n",
      "                sade_frag: -57.9352 -32.6352\n",
      "               sade_de_ss:  56.7088 143.3473\n",
      "             sade_frag_ss: -26.0088  11.1385\n",
      "             sade_de_frag: -31.8738  36.4847\n",
      "          sade_de_frag_ss: -43.8324  27.1114\n",
      "       sade_best1exp_frag: -45.1927  15.7482\n",
      "     sade_currToBest_frag: -45.1436 -13.2134\n",
      "    sade_best1exp_frag_ss: -40.0233  -6.7886\n",
      "  sade_currToBest_frag_ss: -25.8271  37.1367\n"
     ]
    }
   ],
   "source": [
    "alpha = 0.05\n",
    "\n",
    "results = {}\n",
    "\n",
    "print('---------------------- EQUIVALENT TO ----------------------')\n",
    "\n",
    "for k, i in enumerate(comp):\n",
    "    print('%25s' % algs[k], end=': ')\n",
    "    for l, j in enumerate(comp):\n",
    "        if k == l:\n",
    "            continue\n",
    "        aa = len(i)\n",
    "        if len(i) != len(j):\n",
    "            aa = min(len(i), len(j))\n",
    "        _, p = scipy.stats.wilcoxon(i[:aa], j[:aa]) \n",
    "        if p >= alpha:\n",
    "            print('%s' % algs[l], end=' ')    \n",
    "    print()\n",
    "\n",
    "print('\\n---------------------- BETTER THAN ----------------------')\n",
    "\n",
    "for k, i in enumerate(comp):\n",
    "    results[algs[k]] = 0\n",
    "    print('%25s' % algs[k], end=': ')\n",
    "    for l, j in enumerate(comp):\n",
    "        if k == l:\n",
    "            continue\n",
    "        aa = len(i)\n",
    "        if len(i) != len(j):\n",
    "            aa = min(len(i), len(j))\n",
    "        _, p = scipy.stats.wilcoxon(i[:aa], j[:aa]) \n",
    "        # _, p = scipy.stats.ranksums(i, j) \n",
    "        if p < alpha:\n",
    "            if np.mean(i) < np.mean(j):\n",
    "                results[algs[k]] += 1\n",
    "                print('%s' % algs[l], end=' ')               \n",
    "    print()\n",
    "    \n",
    "print('\\n---------------------- N best ----------------------')\n",
    "\n",
    "for k, i in enumerate(comp):\n",
    "    print('%25s: %2d'% (algs[k], results[algs[k]]))\n",
    "    \n",
    "print('\\n---------------------- CONFIDENCE INTERVAL ----------------------')\n",
    "for k, a in enumerate(comp):\n",
    "    ic = scipy.stats.t.interval(0.9, len(a) - 1, loc=np.mean(a), scale=scipy.stats.sem(a))\n",
    "    print('%25s: %8.4f %8.4f' % (algs[k], ic[0], ic[1]))"
   ]
  },
  {
   "cell_type": "code",
   "execution_count": null,
   "metadata": {},
   "outputs": [],
   "source": [
    "11 x 4 x 10\n",
    "1231231233 98098098098 7987987987 75688765786 "
   ]
  }
 ],
 "metadata": {
  "kernelspec": {
   "display_name": "Python 3",
   "language": "python",
   "name": "python3"
  },
  "language_info": {
   "codemirror_mode": {
    "name": "ipython",
    "version": 3
   },
   "file_extension": ".py",
   "mimetype": "text/x-python",
   "name": "python",
   "nbconvert_exporter": "python",
   "pygments_lexer": "ipython3",
   "version": "3.5.4"
  }
 },
 "nbformat": 4,
 "nbformat_minor": 2
}
