{
 "cells": [
  {
   "cell_type": "code",
   "execution_count": null,
   "metadata": {},
   "outputs": [],
   "source": [
    "import os\n",
    "import re\n",
    "import sys\n",
    "\n",
    "import numpy as np\n",
    "import pandas as pd\n",
    "import seaborn as sns\n",
    "import matplotlib.pyplot as plt\n",
    "\n",
    "base_path = os.getcwd()"
   ]
  },
  {
   "cell_type": "code",
   "execution_count": null,
   "metadata": {},
   "outputs": [],
   "source": [
    "%matplotlib inline\n",
    "sns.set(style=\"whitegrid\");"
   ]
  },
  {
   "cell_type": "code",
   "execution_count": null,
   "metadata": {},
   "outputs": [],
   "source": [
    "os.chdir(base_path)\n",
    "from utils import *\n",
    "\n",
    "set_experiment_path('tests_renan_vs_rosetta_12prots')"
   ]
  },
  {
   "cell_type": "code",
   "execution_count": null,
   "metadata": {},
   "outputs": [],
   "source": [
    "list_proteins()"
   ]
  },
  {
   "cell_type": "code",
   "execution_count": null,
   "metadata": {},
   "outputs": [],
   "source": [
    "set_protein('1crn')"
   ]
  },
  {
   "cell_type": "code",
   "execution_count": null,
   "metadata": {},
   "outputs": [],
   "source": [
    "list_experiments()"
   ]
  },
  {
   "cell_type": "code",
   "execution_count": null,
   "metadata": {},
   "outputs": [],
   "source": [
    "set_experiment('1crn_sade_remc')"
   ]
  },
  {
   "cell_type": "code",
   "execution_count": null,
   "metadata": {},
   "outputs": [],
   "source": [
    "list_stats();"
   ]
  },
  {
   "cell_type": "code",
   "execution_count": null,
   "metadata": {},
   "outputs": [],
   "source": [
    "read_data_from_file('stats__1crn__1crn_sade_remc__2019_02_03__05_28_03__OD67P1.dat');"
   ]
  },
  {
   "cell_type": "code",
   "execution_count": null,
   "metadata": {},
   "outputs": [],
   "source": [
    "metrics.keys()"
   ]
  },
  {
   "cell_type": "code",
   "execution_count": null,
   "metadata": {},
   "outputs": [],
   "source": [
    "data_file = list_stats()[0]\n",
    "\n",
    "evals = get_metric_from_data_file(data_file, metrics['evals'])\n",
    "mean_score = get_metric_from_data_file(data_file, metrics['mean_score'])\n",
    "best_score = get_metric_from_data_file(data_file, metrics['best_score'])\n",
    "\n",
    "plt.figure(figsize=(16.5, 10))\n",
    "sns.lineplot(evals, mean_score, label='mean_score')\n",
    "sns.lineplot(evals, best_score, label='best_score')\n",
    "\n",
    "# plt.ylim(0, 200)\n",
    "plt.xlim(0, 500000)"
   ]
  },
  {
   "cell_type": "code",
   "execution_count": null,
   "metadata": {},
   "outputs": [],
   "source": [
    "plot_all(metrics['mean_score'])"
   ]
  },
  {
   "cell_type": "code",
   "execution_count": null,
   "metadata": {},
   "outputs": [],
   "source": [
    "_, mean_score = average_all(metrics['mean_score'])\n",
    "_, best_score = average_all(metrics['best_score'])\n",
    "evals, avg_rmsd = average_all(metrics['avg_rmsd'])\n",
    "evals, moment_of_inertia = average_all(metrics['moment_of_inertia'])\n",
    "\n",
    "plt.figure(figsize=(16.5, 10))\n",
    "\n",
    "sns.lineplot(evals, mean_score, color='g')\n",
    "sns.lineplot(evals, best_score, color='b')\n",
    "\n",
    "ax2 = plt.twinx()\n",
    "\n",
    "sns.lineplot(evals, avg_rmsd, color='r', ax=ax2)\n",
    "# sns.lineplot(evals, best_score, label='best_score')\n",
    "\n",
    "# plt.ylim(0, 125)\n",
    "# plt.xlim(0, 500000)"
   ]
  },
  {
   "cell_type": "code",
   "execution_count": null,
   "metadata": {},
   "outputs": [],
   "source": []
  }
 ],
 "metadata": {
  "kernelspec": {
   "display_name": "Python 3",
   "language": "python",
   "name": "python3"
  },
  "language_info": {
   "codemirror_mode": {
    "name": "ipython",
    "version": 3
   },
   "file_extension": ".py",
   "mimetype": "text/x-python",
   "name": "python",
   "nbconvert_exporter": "python",
   "pygments_lexer": "ipython3",
   "version": "3.5.4"
  }
 },
 "nbformat": 4,
 "nbformat_minor": 2
}
